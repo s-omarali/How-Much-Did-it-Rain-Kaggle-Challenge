{
 "cells": [
  {
   "cell_type": "markdown",
   "id": "353ae494-0270-4ab1-945a-ff234f4dd8f0",
   "metadata": {},
   "source": [
    "# How Much Did It Rain?\n",
    "My Kaggle Project on the 'How Much Did It Rain?' challenge.   \n",
    "Link: [https://www.kaggle.com/competitions/how-much-did-it-rain-ii/data?select=train.zip] "
   ]
  },
  {
   "cell_type": "code",
   "execution_count": 71,
   "id": "e34b49e1-f0ca-471e-be6d-0a2055412b3b",
   "metadata": {},
   "outputs": [],
   "source": [
    "import pandas as pd\n",
    "import numpy as np\n",
    "import matplotlib.pyplot as plt\n",
    "%matplotlib inline\n",
    "from sklearn.linear_model import LinearRegression\n",
    "from sklearn.metrics import mean_squared_error\n",
    "from sklearn.metrics import mean_absolute_error\n",
    "from sklearn.model_selection import train_test_split\n",
    "from sklearn.svm import SVR\n"
   ]
  },
  {
   "cell_type": "code",
   "execution_count": 2,
   "id": "a82bb062-0340-45eb-a01f-c8742ae9fb12",
   "metadata": {},
   "outputs": [],
   "source": [
    "# df = pd.read_csv('train.csv') Wont load\n"
   ]
  },
  {
   "cell_type": "code",
   "execution_count": 3,
   "id": "465cc3bc-edac-4be1-88e5-fe8b975340a2",
   "metadata": {},
   "outputs": [
    {
     "name": "stdout",
     "output_type": "stream",
     "text": [
      "total 4.1G\n",
      "-rw-r--r--  1 omarali03 omarali03  12K Nov 13 18:06 'Kaggle Backup Challenge.ipynb'\n",
      "-rw-r--r--  1 omarali03 omarali03 103K Dec 11 00:58 'Kaggle Challenge.ipynb'\n",
      "drwxr-xr-x 10 omarali03 omarali03 4.0K Dec  4 02:15  Labs\n",
      "drwxr-xr-x 20 omarali03 omarali03 4.0K Dec  4 02:15  Lectures\n",
      "-rw-r--r--  1 omarali03 omarali03   21 Sep  1 11:17  README.md\n",
      "-rw-r--r--  1 omarali03 omarali03 2.1G Dec  4 02:37  SUSY.csv\n",
      "-rw-r--r--  1 omarali03 omarali03 200M Nov 12 21:48  how-much-did-it-rain-ii.zip\n",
      "-rw-r--r--  1 omarali03 omarali03 696K Nov 13 04:11  space_train.csv\n",
      "-rw-r--r--  1 omarali03 omarali03 154K Sep  1 11:17  syllabus.pdf\n",
      "-rw-r--r--  1 omarali03 omarali03 619M Nov 12 21:53  test.csv\n",
      "-rw-r--r--  1 omarali03 omarali03 6.6M Nov 29 12:17  test_small.csv\n",
      "-rw-r--r--  1 omarali03 omarali03 1.2G Nov 12 21:55  train.csv\n",
      "-rw-r--r--  1 omarali03 omarali03 8.5M Nov 13 13:08  train_small.csv\n"
     ]
    }
   ],
   "source": [
    "!ls -lh\n"
   ]
  },
  {
   "cell_type": "code",
   "execution_count": 4,
   "id": "4a3f3b9d-3569-461b-9255-041ce46d6551",
   "metadata": {},
   "outputs": [
    {
     "name": "stdout",
     "output_type": "stream",
     "text": [
      "13765202 train.csv\n"
     ]
    }
   ],
   "source": [
    "!wc -l train.csv"
   ]
  },
  {
   "cell_type": "code",
   "execution_count": 5,
   "id": "7f8c80f3-c992-4d1e-92f3-ff3995d1a38d",
   "metadata": {},
   "outputs": [
    {
     "name": "stdout",
     "output_type": "stream",
     "text": [
      "Id,minutes_past,radardist_km,Ref,Ref_5x5_10th,Ref_5x5_50th,Ref_5x5_90th,RefComposite,RefComposite_5x5_10th,RefComposite_5x5_50th,RefComposite_5x5_90th,RhoHV,RhoHV_5x5_10th,RhoHV_5x5_50th,RhoHV_5x5_90th,Zdr,Zdr_5x5_10th,Zdr_5x5_50th,Zdr_5x5_90th,Kdp,Kdp_5x5_10th,Kdp_5x5_50th,Kdp_5x5_90th,Expected\n",
      "1,3,10.0,,,,,,,,,,,,,,,,,,,,,0.25400013\n",
      "1,16,10.0,,,,,,,,,,,,,,,,,,,,,0.25400013\n",
      "1,25,10.0,,,,,,,,,,,,,,,,,,,,,0.25400013\n",
      "1,35,10.0,,,,,,,,,,,,,,,,,,,,,0.25400013\n",
      "1,45,10.0,,,,,,,,,,,,,,,,,,,,,0.25400013\n",
      "1,55,10.0,,,,,,,,,,,,,,,,,,,,,0.25400013\n",
      "2,1,2.0,9.0,5.0,7.5,10.5,15.0,10.5,16.5,23.5,0.99833333,0.99833333,0.99833333,0.99833333,0.375,-0.125,0.3125,0.875,1.0599976,-1.4100037,-0.3500061,1.0599976,1.0160005\n",
      "2,6,2.0,26.5,22.5,25.5,31.5,26.5,26.5,28.5,32.0,1.0016667,0.9816667,0.99833333,1.005,0.0625,-0.1875,0.25,0.6875,,,,1.4099884,1.0160005\n",
      "2,11,2.0,21.5,15.5,20.5,25.0,26.5,23.5,25.0,27.0,1.0016667,0.995,0.99833333,1.0016667,0.3125,-0.0625,0.3125,0.625,0.34999084,,-0.3500061,1.7599945,1.0160005\n"
     ]
    }
   ],
   "source": [
    "!head -10 train.csv"
   ]
  },
  {
   "cell_type": "code",
   "execution_count": 6,
   "id": "01b0c601-b1ab-4f98-ad45-33470fc3e7d9",
   "metadata": {},
   "outputs": [],
   "source": [
    "!head -100000 train.csv > train_small.csv"
   ]
  },
  {
   "cell_type": "code",
   "execution_count": 7,
   "id": "31af5556-7d72-403d-a979-19717ee494cf",
   "metadata": {},
   "outputs": [
    {
     "data": {
      "text/html": [
       "<div>\n",
       "<style scoped>\n",
       "    .dataframe tbody tr th:only-of-type {\n",
       "        vertical-align: middle;\n",
       "    }\n",
       "\n",
       "    .dataframe tbody tr th {\n",
       "        vertical-align: top;\n",
       "    }\n",
       "\n",
       "    .dataframe thead th {\n",
       "        text-align: right;\n",
       "    }\n",
       "</style>\n",
       "<table border=\"1\" class=\"dataframe\">\n",
       "  <thead>\n",
       "    <tr style=\"text-align: right;\">\n",
       "      <th></th>\n",
       "      <th>Id</th>\n",
       "      <th>minutes_past</th>\n",
       "      <th>radardist_km</th>\n",
       "      <th>Ref</th>\n",
       "      <th>Ref_5x5_10th</th>\n",
       "      <th>Ref_5x5_50th</th>\n",
       "      <th>Ref_5x5_90th</th>\n",
       "      <th>RefComposite</th>\n",
       "      <th>RefComposite_5x5_10th</th>\n",
       "      <th>RefComposite_5x5_50th</th>\n",
       "      <th>...</th>\n",
       "      <th>RhoHV_5x5_90th</th>\n",
       "      <th>Zdr</th>\n",
       "      <th>Zdr_5x5_10th</th>\n",
       "      <th>Zdr_5x5_50th</th>\n",
       "      <th>Zdr_5x5_90th</th>\n",
       "      <th>Kdp</th>\n",
       "      <th>Kdp_5x5_10th</th>\n",
       "      <th>Kdp_5x5_50th</th>\n",
       "      <th>Kdp_5x5_90th</th>\n",
       "      <th>Expected</th>\n",
       "    </tr>\n",
       "  </thead>\n",
       "  <tbody>\n",
       "    <tr>\n",
       "      <th>0</th>\n",
       "      <td>1</td>\n",
       "      <td>3</td>\n",
       "      <td>10.0</td>\n",
       "      <td>NaN</td>\n",
       "      <td>NaN</td>\n",
       "      <td>NaN</td>\n",
       "      <td>NaN</td>\n",
       "      <td>NaN</td>\n",
       "      <td>NaN</td>\n",
       "      <td>NaN</td>\n",
       "      <td>...</td>\n",
       "      <td>NaN</td>\n",
       "      <td>NaN</td>\n",
       "      <td>NaN</td>\n",
       "      <td>NaN</td>\n",
       "      <td>NaN</td>\n",
       "      <td>NaN</td>\n",
       "      <td>NaN</td>\n",
       "      <td>NaN</td>\n",
       "      <td>NaN</td>\n",
       "      <td>0.254</td>\n",
       "    </tr>\n",
       "    <tr>\n",
       "      <th>1</th>\n",
       "      <td>1</td>\n",
       "      <td>16</td>\n",
       "      <td>10.0</td>\n",
       "      <td>NaN</td>\n",
       "      <td>NaN</td>\n",
       "      <td>NaN</td>\n",
       "      <td>NaN</td>\n",
       "      <td>NaN</td>\n",
       "      <td>NaN</td>\n",
       "      <td>NaN</td>\n",
       "      <td>...</td>\n",
       "      <td>NaN</td>\n",
       "      <td>NaN</td>\n",
       "      <td>NaN</td>\n",
       "      <td>NaN</td>\n",
       "      <td>NaN</td>\n",
       "      <td>NaN</td>\n",
       "      <td>NaN</td>\n",
       "      <td>NaN</td>\n",
       "      <td>NaN</td>\n",
       "      <td>0.254</td>\n",
       "    </tr>\n",
       "    <tr>\n",
       "      <th>2</th>\n",
       "      <td>1</td>\n",
       "      <td>25</td>\n",
       "      <td>10.0</td>\n",
       "      <td>NaN</td>\n",
       "      <td>NaN</td>\n",
       "      <td>NaN</td>\n",
       "      <td>NaN</td>\n",
       "      <td>NaN</td>\n",
       "      <td>NaN</td>\n",
       "      <td>NaN</td>\n",
       "      <td>...</td>\n",
       "      <td>NaN</td>\n",
       "      <td>NaN</td>\n",
       "      <td>NaN</td>\n",
       "      <td>NaN</td>\n",
       "      <td>NaN</td>\n",
       "      <td>NaN</td>\n",
       "      <td>NaN</td>\n",
       "      <td>NaN</td>\n",
       "      <td>NaN</td>\n",
       "      <td>0.254</td>\n",
       "    </tr>\n",
       "    <tr>\n",
       "      <th>3</th>\n",
       "      <td>1</td>\n",
       "      <td>35</td>\n",
       "      <td>10.0</td>\n",
       "      <td>NaN</td>\n",
       "      <td>NaN</td>\n",
       "      <td>NaN</td>\n",
       "      <td>NaN</td>\n",
       "      <td>NaN</td>\n",
       "      <td>NaN</td>\n",
       "      <td>NaN</td>\n",
       "      <td>...</td>\n",
       "      <td>NaN</td>\n",
       "      <td>NaN</td>\n",
       "      <td>NaN</td>\n",
       "      <td>NaN</td>\n",
       "      <td>NaN</td>\n",
       "      <td>NaN</td>\n",
       "      <td>NaN</td>\n",
       "      <td>NaN</td>\n",
       "      <td>NaN</td>\n",
       "      <td>0.254</td>\n",
       "    </tr>\n",
       "    <tr>\n",
       "      <th>4</th>\n",
       "      <td>1</td>\n",
       "      <td>45</td>\n",
       "      <td>10.0</td>\n",
       "      <td>NaN</td>\n",
       "      <td>NaN</td>\n",
       "      <td>NaN</td>\n",
       "      <td>NaN</td>\n",
       "      <td>NaN</td>\n",
       "      <td>NaN</td>\n",
       "      <td>NaN</td>\n",
       "      <td>...</td>\n",
       "      <td>NaN</td>\n",
       "      <td>NaN</td>\n",
       "      <td>NaN</td>\n",
       "      <td>NaN</td>\n",
       "      <td>NaN</td>\n",
       "      <td>NaN</td>\n",
       "      <td>NaN</td>\n",
       "      <td>NaN</td>\n",
       "      <td>NaN</td>\n",
       "      <td>0.254</td>\n",
       "    </tr>\n",
       "    <tr>\n",
       "      <th>...</th>\n",
       "      <td>...</td>\n",
       "      <td>...</td>\n",
       "      <td>...</td>\n",
       "      <td>...</td>\n",
       "      <td>...</td>\n",
       "      <td>...</td>\n",
       "      <td>...</td>\n",
       "      <td>...</td>\n",
       "      <td>...</td>\n",
       "      <td>...</td>\n",
       "      <td>...</td>\n",
       "      <td>...</td>\n",
       "      <td>...</td>\n",
       "      <td>...</td>\n",
       "      <td>...</td>\n",
       "      <td>...</td>\n",
       "      <td>...</td>\n",
       "      <td>...</td>\n",
       "      <td>...</td>\n",
       "      <td>...</td>\n",
       "      <td>...</td>\n",
       "    </tr>\n",
       "    <tr>\n",
       "      <th>99994</th>\n",
       "      <td>9541</td>\n",
       "      <td>13</td>\n",
       "      <td>16.0</td>\n",
       "      <td>NaN</td>\n",
       "      <td>NaN</td>\n",
       "      <td>NaN</td>\n",
       "      <td>NaN</td>\n",
       "      <td>NaN</td>\n",
       "      <td>NaN</td>\n",
       "      <td>NaN</td>\n",
       "      <td>...</td>\n",
       "      <td>NaN</td>\n",
       "      <td>NaN</td>\n",
       "      <td>NaN</td>\n",
       "      <td>NaN</td>\n",
       "      <td>NaN</td>\n",
       "      <td>NaN</td>\n",
       "      <td>NaN</td>\n",
       "      <td>NaN</td>\n",
       "      <td>NaN</td>\n",
       "      <td>0.508</td>\n",
       "    </tr>\n",
       "    <tr>\n",
       "      <th>99995</th>\n",
       "      <td>9541</td>\n",
       "      <td>18</td>\n",
       "      <td>16.0</td>\n",
       "      <td>NaN</td>\n",
       "      <td>NaN</td>\n",
       "      <td>NaN</td>\n",
       "      <td>NaN</td>\n",
       "      <td>NaN</td>\n",
       "      <td>NaN</td>\n",
       "      <td>NaN</td>\n",
       "      <td>...</td>\n",
       "      <td>NaN</td>\n",
       "      <td>NaN</td>\n",
       "      <td>NaN</td>\n",
       "      <td>NaN</td>\n",
       "      <td>NaN</td>\n",
       "      <td>NaN</td>\n",
       "      <td>NaN</td>\n",
       "      <td>NaN</td>\n",
       "      <td>NaN</td>\n",
       "      <td>0.508</td>\n",
       "    </tr>\n",
       "    <tr>\n",
       "      <th>99996</th>\n",
       "      <td>9541</td>\n",
       "      <td>23</td>\n",
       "      <td>16.0</td>\n",
       "      <td>NaN</td>\n",
       "      <td>NaN</td>\n",
       "      <td>NaN</td>\n",
       "      <td>NaN</td>\n",
       "      <td>NaN</td>\n",
       "      <td>NaN</td>\n",
       "      <td>NaN</td>\n",
       "      <td>...</td>\n",
       "      <td>NaN</td>\n",
       "      <td>NaN</td>\n",
       "      <td>NaN</td>\n",
       "      <td>NaN</td>\n",
       "      <td>NaN</td>\n",
       "      <td>NaN</td>\n",
       "      <td>NaN</td>\n",
       "      <td>NaN</td>\n",
       "      <td>NaN</td>\n",
       "      <td>0.508</td>\n",
       "    </tr>\n",
       "    <tr>\n",
       "      <th>99997</th>\n",
       "      <td>9541</td>\n",
       "      <td>29</td>\n",
       "      <td>16.0</td>\n",
       "      <td>NaN</td>\n",
       "      <td>NaN</td>\n",
       "      <td>NaN</td>\n",
       "      <td>NaN</td>\n",
       "      <td>NaN</td>\n",
       "      <td>NaN</td>\n",
       "      <td>NaN</td>\n",
       "      <td>...</td>\n",
       "      <td>NaN</td>\n",
       "      <td>NaN</td>\n",
       "      <td>NaN</td>\n",
       "      <td>NaN</td>\n",
       "      <td>NaN</td>\n",
       "      <td>NaN</td>\n",
       "      <td>NaN</td>\n",
       "      <td>NaN</td>\n",
       "      <td>NaN</td>\n",
       "      <td>0.508</td>\n",
       "    </tr>\n",
       "    <tr>\n",
       "      <th>99998</th>\n",
       "      <td>9541</td>\n",
       "      <td>34</td>\n",
       "      <td>16.0</td>\n",
       "      <td>NaN</td>\n",
       "      <td>NaN</td>\n",
       "      <td>NaN</td>\n",
       "      <td>NaN</td>\n",
       "      <td>NaN</td>\n",
       "      <td>NaN</td>\n",
       "      <td>NaN</td>\n",
       "      <td>...</td>\n",
       "      <td>NaN</td>\n",
       "      <td>NaN</td>\n",
       "      <td>NaN</td>\n",
       "      <td>NaN</td>\n",
       "      <td>NaN</td>\n",
       "      <td>NaN</td>\n",
       "      <td>NaN</td>\n",
       "      <td>NaN</td>\n",
       "      <td>NaN</td>\n",
       "      <td>0.508</td>\n",
       "    </tr>\n",
       "  </tbody>\n",
       "</table>\n",
       "<p>99999 rows × 24 columns</p>\n",
       "</div>"
      ],
      "text/plain": [
       "         Id  minutes_past  radardist_km  Ref  Ref_5x5_10th  Ref_5x5_50th  \\\n",
       "0         1             3          10.0  NaN           NaN           NaN   \n",
       "1         1            16          10.0  NaN           NaN           NaN   \n",
       "2         1            25          10.0  NaN           NaN           NaN   \n",
       "3         1            35          10.0  NaN           NaN           NaN   \n",
       "4         1            45          10.0  NaN           NaN           NaN   \n",
       "...     ...           ...           ...  ...           ...           ...   \n",
       "99994  9541            13          16.0  NaN           NaN           NaN   \n",
       "99995  9541            18          16.0  NaN           NaN           NaN   \n",
       "99996  9541            23          16.0  NaN           NaN           NaN   \n",
       "99997  9541            29          16.0  NaN           NaN           NaN   \n",
       "99998  9541            34          16.0  NaN           NaN           NaN   \n",
       "\n",
       "       Ref_5x5_90th  RefComposite  RefComposite_5x5_10th  \\\n",
       "0               NaN           NaN                    NaN   \n",
       "1               NaN           NaN                    NaN   \n",
       "2               NaN           NaN                    NaN   \n",
       "3               NaN           NaN                    NaN   \n",
       "4               NaN           NaN                    NaN   \n",
       "...             ...           ...                    ...   \n",
       "99994           NaN           NaN                    NaN   \n",
       "99995           NaN           NaN                    NaN   \n",
       "99996           NaN           NaN                    NaN   \n",
       "99997           NaN           NaN                    NaN   \n",
       "99998           NaN           NaN                    NaN   \n",
       "\n",
       "       RefComposite_5x5_50th  ...  RhoHV_5x5_90th  Zdr  Zdr_5x5_10th  \\\n",
       "0                        NaN  ...             NaN  NaN           NaN   \n",
       "1                        NaN  ...             NaN  NaN           NaN   \n",
       "2                        NaN  ...             NaN  NaN           NaN   \n",
       "3                        NaN  ...             NaN  NaN           NaN   \n",
       "4                        NaN  ...             NaN  NaN           NaN   \n",
       "...                      ...  ...             ...  ...           ...   \n",
       "99994                    NaN  ...             NaN  NaN           NaN   \n",
       "99995                    NaN  ...             NaN  NaN           NaN   \n",
       "99996                    NaN  ...             NaN  NaN           NaN   \n",
       "99997                    NaN  ...             NaN  NaN           NaN   \n",
       "99998                    NaN  ...             NaN  NaN           NaN   \n",
       "\n",
       "       Zdr_5x5_50th  Zdr_5x5_90th  Kdp  Kdp_5x5_10th  Kdp_5x5_50th  \\\n",
       "0               NaN           NaN  NaN           NaN           NaN   \n",
       "1               NaN           NaN  NaN           NaN           NaN   \n",
       "2               NaN           NaN  NaN           NaN           NaN   \n",
       "3               NaN           NaN  NaN           NaN           NaN   \n",
       "4               NaN           NaN  NaN           NaN           NaN   \n",
       "...             ...           ...  ...           ...           ...   \n",
       "99994           NaN           NaN  NaN           NaN           NaN   \n",
       "99995           NaN           NaN  NaN           NaN           NaN   \n",
       "99996           NaN           NaN  NaN           NaN           NaN   \n",
       "99997           NaN           NaN  NaN           NaN           NaN   \n",
       "99998           NaN           NaN  NaN           NaN           NaN   \n",
       "\n",
       "       Kdp_5x5_90th  Expected  \n",
       "0               NaN     0.254  \n",
       "1               NaN     0.254  \n",
       "2               NaN     0.254  \n",
       "3               NaN     0.254  \n",
       "4               NaN     0.254  \n",
       "...             ...       ...  \n",
       "99994           NaN     0.508  \n",
       "99995           NaN     0.508  \n",
       "99996           NaN     0.508  \n",
       "99997           NaN     0.508  \n",
       "99998           NaN     0.508  \n",
       "\n",
       "[99999 rows x 24 columns]"
      ]
     },
     "execution_count": 7,
     "metadata": {},
     "output_type": "execute_result"
    }
   ],
   "source": [
    "df = pd.read_csv(\"train_small.csv\")\n",
    "df"
   ]
  },
  {
   "cell_type": "code",
   "execution_count": 8,
   "id": "0a27edde-779f-4e4b-bbac-da5c8bd737f4",
   "metadata": {},
   "outputs": [
    {
     "data": {
      "text/plain": [
       "0        0.254\n",
       "1        0.254\n",
       "2        0.254\n",
       "3        0.254\n",
       "4        0.254\n",
       "         ...  \n",
       "99994    0.508\n",
       "99995    0.508\n",
       "99996    0.508\n",
       "99997    0.508\n",
       "99998    0.508\n",
       "Name: Expected, Length: 99999, dtype: float64"
      ]
     },
     "execution_count": 8,
     "metadata": {},
     "output_type": "execute_result"
    }
   ],
   "source": [
    "df['Expected']"
   ]
  },
  {
   "cell_type": "code",
   "execution_count": 9,
   "id": "317b3f84-bf0f-4a51-a9b2-12f05083377a",
   "metadata": {},
   "outputs": [
    {
     "data": {
      "text/plain": [
       "(array([3.2790e+03, 2.7972e+04, 1.0137e+04, 5.4500e+03, 4.8000e+01,\n",
       "        5.8600e+03, 3.3080e+03, 2.9700e+03, 2.4080e+03, 7.6000e+01,\n",
       "        3.0600e+03, 2.1910e+03, 2.4120e+03, 1.3500e+03, 6.5000e+01,\n",
       "        1.4270e+03, 1.6800e+03, 1.5480e+03, 5.9000e+01, 1.0800e+03,\n",
       "        1.7390e+03, 9.0200e+02, 6.1000e+02, 1.1900e+02, 5.5300e+02,\n",
       "        3.6800e+02, 3.4500e+02, 2.9700e+02, 1.2000e+01, 4.8700e+02,\n",
       "        4.3700e+02, 1.5500e+02, 0.0000e+00, 4.5300e+02, 1.6600e+02,\n",
       "        5.7100e+02, 6.5000e+01, 0.0000e+00, 3.2700e+02, 1.9800e+02,\n",
       "        2.6300e+02, 1.0000e+01, 0.0000e+00, 1.2100e+02, 1.3900e+02,\n",
       "        1.6400e+02, 7.6000e+01, 0.0000e+00, 2.5900e+02, 3.7000e+01,\n",
       "        2.0700e+02, 0.0000e+00, 3.0700e+02, 8.8000e+01, 1.1600e+02,\n",
       "        8.1000e+01, 0.0000e+00, 2.0200e+02, 1.5000e+02, 1.0300e+02,\n",
       "        1.8800e+02, 0.0000e+00, 1.4600e+02, 2.4200e+02, 5.0000e+01,\n",
       "        0.0000e+00, 6.8000e+01, 1.1000e+02, 0.0000e+00, 6.5000e+01,\n",
       "        1.1380e+03, 8.7000e+01, 7.5000e+01, 3.0600e+02, 5.0000e+01,\n",
       "        0.0000e+00, 0.0000e+00, 1.6100e+02, 1.9700e+02, 0.0000e+00,\n",
       "        0.0000e+00, 5.9000e+01, 6.4000e+01, 1.1000e+01, 0.0000e+00,\n",
       "        2.2000e+01, 6.8000e+01, 9.3000e+01, 9.2000e+01, 0.0000e+00,\n",
       "        2.9000e+01, 9.8000e+01, 0.0000e+00, 9.9000e+01, 0.0000e+00,\n",
       "        0.0000e+00, 3.7000e+01, 1.4400e+02, 0.0000e+00, 0.0000e+00]),\n",
       " array([ 0. ,  0.2,  0.4,  0.6,  0.8,  1. ,  1.2,  1.4,  1.6,  1.8,  2. ,\n",
       "         2.2,  2.4,  2.6,  2.8,  3. ,  3.2,  3.4,  3.6,  3.8,  4. ,  4.2,\n",
       "         4.4,  4.6,  4.8,  5. ,  5.2,  5.4,  5.6,  5.8,  6. ,  6.2,  6.4,\n",
       "         6.6,  6.8,  7. ,  7.2,  7.4,  7.6,  7.8,  8. ,  8.2,  8.4,  8.6,\n",
       "         8.8,  9. ,  9.2,  9.4,  9.6,  9.8, 10. , 10.2, 10.4, 10.6, 10.8,\n",
       "        11. , 11.2, 11.4, 11.6, 11.8, 12. , 12.2, 12.4, 12.6, 12.8, 13. ,\n",
       "        13.2, 13.4, 13.6, 13.8, 14. , 14.2, 14.4, 14.6, 14.8, 15. , 15.2,\n",
       "        15.4, 15.6, 15.8, 16. , 16.2, 16.4, 16.6, 16.8, 17. , 17.2, 17.4,\n",
       "        17.6, 17.8, 18. , 18.2, 18.4, 18.6, 18.8, 19. , 19.2, 19.4, 19.6,\n",
       "        19.8, 20. ]),\n",
       " <BarContainer object of 100 artists>)"
      ]
     },
     "execution_count": 9,
     "metadata": {},
     "output_type": "execute_result"
    },
    {
     "data": {
      "image/png": "[encoded data removed]",
      "text/plain": [
       "<Figure size 640x480 with 1 Axes>"
      ]
     },
     "metadata": {},
     "output_type": "display_data"
    }
   ],
   "source": [
    "plt.hist(df[\"Expected\"],bins = 100,range = (0,20))"
   ]
  },
  {
   "cell_type": "code",
   "execution_count": 10,
   "id": "9ffa9a0d-cb05-491b-a06d-24a94e66f5cd",
   "metadata": {},
   "outputs": [],
   "source": [
    "!head -100000 test.csv > test_small.csv"
   ]
  },
  {
   "cell_type": "code",
   "execution_count": 11,
   "id": "24def142-547e-4138-87e3-eb1272a969af",
   "metadata": {},
   "outputs": [
    {
     "data": {
      "text/html": [
       "<div>\n",
       "<style scoped>\n",
       "    .dataframe tbody tr th:only-of-type {\n",
       "        vertical-align: middle;\n",
       "    }\n",
       "\n",
       "    .dataframe tbody tr th {\n",
       "        vertical-align: top;\n",
       "    }\n",
       "\n",
       "    .dataframe thead th {\n",
       "        text-align: right;\n",
       "    }\n",
       "</style>\n",
       "<table border=\"1\" class=\"dataframe\">\n",
       "  <thead>\n",
       "    <tr style=\"text-align: right;\">\n",
       "      <th></th>\n",
       "      <th>minutes_past</th>\n",
       "      <th>radardist_km</th>\n",
       "      <th>Ref</th>\n",
       "      <th>Ref_5x5_10th</th>\n",
       "      <th>Ref_5x5_50th</th>\n",
       "      <th>Ref_5x5_90th</th>\n",
       "      <th>RefComposite</th>\n",
       "      <th>RefComposite_5x5_10th</th>\n",
       "      <th>RefComposite_5x5_50th</th>\n",
       "      <th>RefComposite_5x5_90th</th>\n",
       "      <th>...</th>\n",
       "      <th>RhoHV_5x5_90th</th>\n",
       "      <th>Zdr</th>\n",
       "      <th>Zdr_5x5_10th</th>\n",
       "      <th>Zdr_5x5_50th</th>\n",
       "      <th>Zdr_5x5_90th</th>\n",
       "      <th>Kdp</th>\n",
       "      <th>Kdp_5x5_10th</th>\n",
       "      <th>Kdp_5x5_50th</th>\n",
       "      <th>Kdp_5x5_90th</th>\n",
       "      <th>Expected</th>\n",
       "    </tr>\n",
       "  </thead>\n",
       "  <tbody>\n",
       "    <tr>\n",
       "      <th>0</th>\n",
       "      <td>3</td>\n",
       "      <td>10.0</td>\n",
       "      <td>NaN</td>\n",
       "      <td>NaN</td>\n",
       "      <td>NaN</td>\n",
       "      <td>NaN</td>\n",
       "      <td>NaN</td>\n",
       "      <td>NaN</td>\n",
       "      <td>NaN</td>\n",
       "      <td>NaN</td>\n",
       "      <td>...</td>\n",
       "      <td>NaN</td>\n",
       "      <td>NaN</td>\n",
       "      <td>NaN</td>\n",
       "      <td>NaN</td>\n",
       "      <td>NaN</td>\n",
       "      <td>NaN</td>\n",
       "      <td>NaN</td>\n",
       "      <td>NaN</td>\n",
       "      <td>NaN</td>\n",
       "      <td>0.254</td>\n",
       "    </tr>\n",
       "    <tr>\n",
       "      <th>1</th>\n",
       "      <td>16</td>\n",
       "      <td>10.0</td>\n",
       "      <td>NaN</td>\n",
       "      <td>NaN</td>\n",
       "      <td>NaN</td>\n",
       "      <td>NaN</td>\n",
       "      <td>NaN</td>\n",
       "      <td>NaN</td>\n",
       "      <td>NaN</td>\n",
       "      <td>NaN</td>\n",
       "      <td>...</td>\n",
       "      <td>NaN</td>\n",
       "      <td>NaN</td>\n",
       "      <td>NaN</td>\n",
       "      <td>NaN</td>\n",
       "      <td>NaN</td>\n",
       "      <td>NaN</td>\n",
       "      <td>NaN</td>\n",
       "      <td>NaN</td>\n",
       "      <td>NaN</td>\n",
       "      <td>0.254</td>\n",
       "    </tr>\n",
       "    <tr>\n",
       "      <th>2</th>\n",
       "      <td>25</td>\n",
       "      <td>10.0</td>\n",
       "      <td>NaN</td>\n",
       "      <td>NaN</td>\n",
       "      <td>NaN</td>\n",
       "      <td>NaN</td>\n",
       "      <td>NaN</td>\n",
       "      <td>NaN</td>\n",
       "      <td>NaN</td>\n",
       "      <td>NaN</td>\n",
       "      <td>...</td>\n",
       "      <td>NaN</td>\n",
       "      <td>NaN</td>\n",
       "      <td>NaN</td>\n",
       "      <td>NaN</td>\n",
       "      <td>NaN</td>\n",
       "      <td>NaN</td>\n",
       "      <td>NaN</td>\n",
       "      <td>NaN</td>\n",
       "      <td>NaN</td>\n",
       "      <td>0.254</td>\n",
       "    </tr>\n",
       "    <tr>\n",
       "      <th>3</th>\n",
       "      <td>35</td>\n",
       "      <td>10.0</td>\n",
       "      <td>NaN</td>\n",
       "      <td>NaN</td>\n",
       "      <td>NaN</td>\n",
       "      <td>NaN</td>\n",
       "      <td>NaN</td>\n",
       "      <td>NaN</td>\n",
       "      <td>NaN</td>\n",
       "      <td>NaN</td>\n",
       "      <td>...</td>\n",
       "      <td>NaN</td>\n",
       "      <td>NaN</td>\n",
       "      <td>NaN</td>\n",
       "      <td>NaN</td>\n",
       "      <td>NaN</td>\n",
       "      <td>NaN</td>\n",
       "      <td>NaN</td>\n",
       "      <td>NaN</td>\n",
       "      <td>NaN</td>\n",
       "      <td>0.254</td>\n",
       "    </tr>\n",
       "    <tr>\n",
       "      <th>4</th>\n",
       "      <td>45</td>\n",
       "      <td>10.0</td>\n",
       "      <td>NaN</td>\n",
       "      <td>NaN</td>\n",
       "      <td>NaN</td>\n",
       "      <td>NaN</td>\n",
       "      <td>NaN</td>\n",
       "      <td>NaN</td>\n",
       "      <td>NaN</td>\n",
       "      <td>NaN</td>\n",
       "      <td>...</td>\n",
       "      <td>NaN</td>\n",
       "      <td>NaN</td>\n",
       "      <td>NaN</td>\n",
       "      <td>NaN</td>\n",
       "      <td>NaN</td>\n",
       "      <td>NaN</td>\n",
       "      <td>NaN</td>\n",
       "      <td>NaN</td>\n",
       "      <td>NaN</td>\n",
       "      <td>0.254</td>\n",
       "    </tr>\n",
       "    <tr>\n",
       "      <th>...</th>\n",
       "      <td>...</td>\n",
       "      <td>...</td>\n",
       "      <td>...</td>\n",
       "      <td>...</td>\n",
       "      <td>...</td>\n",
       "      <td>...</td>\n",
       "      <td>...</td>\n",
       "      <td>...</td>\n",
       "      <td>...</td>\n",
       "      <td>...</td>\n",
       "      <td>...</td>\n",
       "      <td>...</td>\n",
       "      <td>...</td>\n",
       "      <td>...</td>\n",
       "      <td>...</td>\n",
       "      <td>...</td>\n",
       "      <td>...</td>\n",
       "      <td>...</td>\n",
       "      <td>...</td>\n",
       "      <td>...</td>\n",
       "      <td>...</td>\n",
       "    </tr>\n",
       "    <tr>\n",
       "      <th>99994</th>\n",
       "      <td>13</td>\n",
       "      <td>16.0</td>\n",
       "      <td>NaN</td>\n",
       "      <td>NaN</td>\n",
       "      <td>NaN</td>\n",
       "      <td>NaN</td>\n",
       "      <td>NaN</td>\n",
       "      <td>NaN</td>\n",
       "      <td>NaN</td>\n",
       "      <td>NaN</td>\n",
       "      <td>...</td>\n",
       "      <td>NaN</td>\n",
       "      <td>NaN</td>\n",
       "      <td>NaN</td>\n",
       "      <td>NaN</td>\n",
       "      <td>NaN</td>\n",
       "      <td>NaN</td>\n",
       "      <td>NaN</td>\n",
       "      <td>NaN</td>\n",
       "      <td>NaN</td>\n",
       "      <td>0.508</td>\n",
       "    </tr>\n",
       "    <tr>\n",
       "      <th>99995</th>\n",
       "      <td>18</td>\n",
       "      <td>16.0</td>\n",
       "      <td>NaN</td>\n",
       "      <td>NaN</td>\n",
       "      <td>NaN</td>\n",
       "      <td>NaN</td>\n",
       "      <td>NaN</td>\n",
       "      <td>NaN</td>\n",
       "      <td>NaN</td>\n",
       "      <td>NaN</td>\n",
       "      <td>...</td>\n",
       "      <td>NaN</td>\n",
       "      <td>NaN</td>\n",
       "      <td>NaN</td>\n",
       "      <td>NaN</td>\n",
       "      <td>NaN</td>\n",
       "      <td>NaN</td>\n",
       "      <td>NaN</td>\n",
       "      <td>NaN</td>\n",
       "      <td>NaN</td>\n",
       "      <td>0.508</td>\n",
       "    </tr>\n",
       "    <tr>\n",
       "      <th>99996</th>\n",
       "      <td>23</td>\n",
       "      <td>16.0</td>\n",
       "      <td>NaN</td>\n",
       "      <td>NaN</td>\n",
       "      <td>NaN</td>\n",
       "      <td>NaN</td>\n",
       "      <td>NaN</td>\n",
       "      <td>NaN</td>\n",
       "      <td>NaN</td>\n",
       "      <td>NaN</td>\n",
       "      <td>...</td>\n",
       "      <td>NaN</td>\n",
       "      <td>NaN</td>\n",
       "      <td>NaN</td>\n",
       "      <td>NaN</td>\n",
       "      <td>NaN</td>\n",
       "      <td>NaN</td>\n",
       "      <td>NaN</td>\n",
       "      <td>NaN</td>\n",
       "      <td>NaN</td>\n",
       "      <td>0.508</td>\n",
       "    </tr>\n",
       "    <tr>\n",
       "      <th>99997</th>\n",
       "      <td>29</td>\n",
       "      <td>16.0</td>\n",
       "      <td>NaN</td>\n",
       "      <td>NaN</td>\n",
       "      <td>NaN</td>\n",
       "      <td>NaN</td>\n",
       "      <td>NaN</td>\n",
       "      <td>NaN</td>\n",
       "      <td>NaN</td>\n",
       "      <td>NaN</td>\n",
       "      <td>...</td>\n",
       "      <td>NaN</td>\n",
       "      <td>NaN</td>\n",
       "      <td>NaN</td>\n",
       "      <td>NaN</td>\n",
       "      <td>NaN</td>\n",
       "      <td>NaN</td>\n",
       "      <td>NaN</td>\n",
       "      <td>NaN</td>\n",
       "      <td>NaN</td>\n",
       "      <td>0.508</td>\n",
       "    </tr>\n",
       "    <tr>\n",
       "      <th>99998</th>\n",
       "      <td>34</td>\n",
       "      <td>16.0</td>\n",
       "      <td>NaN</td>\n",
       "      <td>NaN</td>\n",
       "      <td>NaN</td>\n",
       "      <td>NaN</td>\n",
       "      <td>NaN</td>\n",
       "      <td>NaN</td>\n",
       "      <td>NaN</td>\n",
       "      <td>NaN</td>\n",
       "      <td>...</td>\n",
       "      <td>NaN</td>\n",
       "      <td>NaN</td>\n",
       "      <td>NaN</td>\n",
       "      <td>NaN</td>\n",
       "      <td>NaN</td>\n",
       "      <td>NaN</td>\n",
       "      <td>NaN</td>\n",
       "      <td>NaN</td>\n",
       "      <td>NaN</td>\n",
       "      <td>0.508</td>\n",
       "    </tr>\n",
       "  </tbody>\n",
       "</table>\n",
       "<p>99999 rows × 23 columns</p>\n",
       "</div>"
      ],
      "text/plain": [
       "       minutes_past  radardist_km  Ref  Ref_5x5_10th  Ref_5x5_50th  \\\n",
       "0                 3          10.0  NaN           NaN           NaN   \n",
       "1                16          10.0  NaN           NaN           NaN   \n",
       "2                25          10.0  NaN           NaN           NaN   \n",
       "3                35          10.0  NaN           NaN           NaN   \n",
       "4                45          10.0  NaN           NaN           NaN   \n",
       "...             ...           ...  ...           ...           ...   \n",
       "99994            13          16.0  NaN           NaN           NaN   \n",
       "99995            18          16.0  NaN           NaN           NaN   \n",
       "99996            23          16.0  NaN           NaN           NaN   \n",
       "99997            29          16.0  NaN           NaN           NaN   \n",
       "99998            34          16.0  NaN           NaN           NaN   \n",
       "\n",
       "       Ref_5x5_90th  RefComposite  RefComposite_5x5_10th  \\\n",
       "0               NaN           NaN                    NaN   \n",
       "1               NaN           NaN                    NaN   \n",
       "2               NaN           NaN                    NaN   \n",
       "3               NaN           NaN                    NaN   \n",
       "4               NaN           NaN                    NaN   \n",
       "...             ...           ...                    ...   \n",
       "99994           NaN           NaN                    NaN   \n",
       "99995           NaN           NaN                    NaN   \n",
       "99996           NaN           NaN                    NaN   \n",
       "99997           NaN           NaN                    NaN   \n",
       "99998           NaN           NaN                    NaN   \n",
       "\n",
       "       RefComposite_5x5_50th  RefComposite_5x5_90th  ...  RhoHV_5x5_90th  Zdr  \\\n",
       "0                        NaN                    NaN  ...             NaN  NaN   \n",
       "1                        NaN                    NaN  ...             NaN  NaN   \n",
       "2                        NaN                    NaN  ...             NaN  NaN   \n",
       "3                        NaN                    NaN  ...             NaN  NaN   \n",
       "4                        NaN                    NaN  ...             NaN  NaN   \n",
       "...                      ...                    ...  ...             ...  ...   \n",
       "99994                    NaN                    NaN  ...             NaN  NaN   \n",
       "99995                    NaN                    NaN  ...             NaN  NaN   \n",
       "99996                    NaN                    NaN  ...             NaN  NaN   \n",
       "99997                    NaN                    NaN  ...             NaN  NaN   \n",
       "99998                    NaN                    NaN  ...             NaN  NaN   \n",
       "\n",
       "       Zdr_5x5_10th  Zdr_5x5_50th  Zdr_5x5_90th  Kdp  Kdp_5x5_10th  \\\n",
       "0               NaN           NaN           NaN  NaN           NaN   \n",
       "1               NaN           NaN           NaN  NaN           NaN   \n",
       "2               NaN           NaN           NaN  NaN           NaN   \n",
       "3               NaN           NaN           NaN  NaN           NaN   \n",
       "4               NaN           NaN           NaN  NaN           NaN   \n",
       "...             ...           ...           ...  ...           ...   \n",
       "99994           NaN           NaN           NaN  NaN           NaN   \n",
       "99995           NaN           NaN           NaN  NaN           NaN   \n",
       "99996           NaN           NaN           NaN  NaN           NaN   \n",
       "99997           NaN           NaN           NaN  NaN           NaN   \n",
       "99998           NaN           NaN           NaN  NaN           NaN   \n",
       "\n",
       "       Kdp_5x5_50th  Kdp_5x5_90th  Expected  \n",
       "0               NaN           NaN     0.254  \n",
       "1               NaN           NaN     0.254  \n",
       "2               NaN           NaN     0.254  \n",
       "3               NaN           NaN     0.254  \n",
       "4               NaN           NaN     0.254  \n",
       "...             ...           ...       ...  \n",
       "99994           NaN           NaN     0.508  \n",
       "99995           NaN           NaN     0.508  \n",
       "99996           NaN           NaN     0.508  \n",
       "99997           NaN           NaN     0.508  \n",
       "99998           NaN           NaN     0.508  \n",
       "\n",
       "[99999 rows x 23 columns]"
      ]
     },
     "execution_count": 11,
     "metadata": {},
     "output_type": "execute_result"
    }
   ],
   "source": [
    "# Removing columns for better results\n",
    "drop_columns = ['Id']\n",
    "df = pd.read_csv('train_small.csv')\n",
    "new_df = df.drop(columns = drop_columns)\n",
    "new_df"
   ]
  },
  {
   "cell_type": "code",
   "execution_count": 21,
   "id": "5b2d27f2-eec2-4dc2-b677-5fbac8d9e5a4",
   "metadata": {},
   "outputs": [
    {
     "data": {
      "text/plain": [
       "\"X_train = df.drop('Expected', axis=1)\\ny_train = df['Expected']\\nX_train.fillna(0, inplace=True)\\ny_train.fillna(0, inplace=True)\\nmodel = LinearRegression()\\nmodel.fit(X_train,y_train)\""
      ]
     },
     "execution_count": 21,
     "metadata": {},
     "output_type": "execute_result"
    }
   ],
   "source": [
    "#Training model\n",
    "'''X_train = df.drop('Expected', axis=1)\n",
    "y_train = df['Expected']\n",
    "X_train.fillna(0, inplace=True)\n",
    "y_train.fillna(0, inplace=True)\n",
    "model = LinearRegression()\n",
    "model.fit(X_train,y_train)'''"
   ]
  },
  {
   "cell_type": "code",
   "execution_count": 64,
   "id": "8c891128-2e1e-4999-b15d-cd864ef2b10a",
   "metadata": {},
   "outputs": [],
   "source": [
    "#Training with LR\n",
    "X = new_df.drop(\"Expected\", axis = 1)\n",
    "y = new_df[\"Expected\"]\n",
    "X_train, X_test, y_train, y_test = train_test_split(X, y, test_size=0.2)\n",
    "X_train.fillna(0, inplace=True)\n",
    "y_train.fillna(0, inplace=True)\n",
    "X_test.fillna(0,  inplace = True)\n",
    "y_test.fillna(0,  inplace = True)"
   ]
  },
  {
   "cell_type": "code",
   "execution_count": 66,
   "id": "5b14c611-2d1c-41aa-8cd3-1aeb88c77014",
   "metadata": {},
   "outputs": [
    {
     "data": {
      "text/html": [
       "<style>#sk-container-id-6 {color: black;}#sk-container-id-6 pre{padding: 0;}#sk-container-id-6 div.sk-toggleable {background-color: white;}#sk-container-id-6 label.sk-toggleable__label {cursor: pointer;display: block;width: 100%;margin-bottom: 0;padding: 0.3em;box-sizing: border-box;text-align: center;}#sk-container-id-6 label.sk-toggleable__label-arrow:before {content: \"▸\";float: left;margin-right: 0.25em;color: #696969;}#sk-container-id-6 label.sk-toggleable__label-arrow:hover:before {color: black;}#sk-container-id-6 div.sk-estimator:hover label.sk-toggleable__label-arrow:before {color: black;}#sk-container-id-6 div.sk-toggleable__content {max-height: 0;max-width: 0;overflow: hidden;text-align: left;background-color: #f0f8ff;}#sk-container-id-6 div.sk-toggleable__content pre {margin: 0.2em;color: black;border-radius: 0.25em;background-color: #f0f8ff;}#sk-container-id-6 input.sk-toggleable__control:checked~div.sk-toggleable__content {max-height: 200px;max-width: 100%;overflow: auto;}#sk-container-id-6 input.sk-toggleable__control:checked~label.sk-toggleable__label-arrow:before {content: \"▾\";}#sk-container-id-6 div.sk-estimator input.sk-toggleable__control:checked~label.sk-toggleable__label {background-color: #d4ebff;}#sk-container-id-6 div.sk-label input.sk-toggleable__control:checked~label.sk-toggleable__label {background-color: #d4ebff;}#sk-container-id-6 input.sk-hidden--visually {border: 0;clip: rect(1px 1px 1px 1px);clip: rect(1px, 1px, 1px, 1px);height: 1px;margin: -1px;overflow: hidden;padding: 0;position: absolute;width: 1px;}#sk-container-id-6 div.sk-estimator {font-family: monospace;background-color: #f0f8ff;border: 1px dotted black;border-radius: 0.25em;box-sizing: border-box;margin-bottom: 0.5em;}#sk-container-id-6 div.sk-estimator:hover {background-color: #d4ebff;}#sk-container-id-6 div.sk-parallel-item::after {content: \"\";width: 100%;border-bottom: 1px solid gray;flex-grow: 1;}#sk-container-id-6 div.sk-label:hover label.sk-toggleable__label {background-color: #d4ebff;}#sk-container-id-6 div.sk-serial::before {content: \"\";position: absolute;border-left: 1px solid gray;box-sizing: border-box;top: 0;bottom: 0;left: 50%;z-index: 0;}#sk-container-id-6 div.sk-serial {display: flex;flex-direction: column;align-items: center;background-color: white;padding-right: 0.2em;padding-left: 0.2em;position: relative;}#sk-container-id-6 div.sk-item {position: relative;z-index: 1;}#sk-container-id-6 div.sk-parallel {display: flex;align-items: stretch;justify-content: center;background-color: white;position: relative;}#sk-container-id-6 div.sk-item::before, #sk-container-id-6 div.sk-parallel-item::before {content: \"\";position: absolute;border-left: 1px solid gray;box-sizing: border-box;top: 0;bottom: 0;left: 50%;z-index: -1;}#sk-container-id-6 div.sk-parallel-item {display: flex;flex-direction: column;z-index: 1;position: relative;background-color: white;}#sk-container-id-6 div.sk-parallel-item:first-child::after {align-self: flex-end;width: 50%;}#sk-container-id-6 div.sk-parallel-item:last-child::after {align-self: flex-start;width: 50%;}#sk-container-id-6 div.sk-parallel-item:only-child::after {width: 0;}#sk-container-id-6 div.sk-dashed-wrapped {border: 1px dashed gray;margin: 0 0.4em 0.5em 0.4em;box-sizing: border-box;padding-bottom: 0.4em;background-color: white;}#sk-container-id-6 div.sk-label label {font-family: monospace;font-weight: bold;display: inline-block;line-height: 1.2em;}#sk-container-id-6 div.sk-label-container {text-align: center;}#sk-container-id-6 div.sk-container {/* jupyter's `normalize.less` sets `[hidden] { display: none; }` but bootstrap.min.css set `[hidden] { display: none !important; }` so we also need the `!important` here to be able to override the default hidden behavior on the sphinx rendered scikit-learn.org. See: https://github.com/scikit-learn/scikit-learn/issues/21755 */display: inline-block !important;position: relative;}#sk-container-id-6 div.sk-text-repr-fallback {display: none;}</style><div id=\"sk-container-id-6\" class=\"sk-top-container\"><div class=\"sk-text-repr-fallback\"><pre>LinearRegression()</pre><b>In a Jupyter environment, please rerun this cell to show the HTML representation or trust the notebook. <br />On GitHub, the HTML representation is unable to render, please try loading this page with nbviewer.org.</b></div><div class=\"sk-container\" hidden><div class=\"sk-item\"><div class=\"sk-estimator sk-toggleable\"><input class=\"sk-toggleable__control sk-hidden--visually\" id=\"sk-estimator-id-6\" type=\"checkbox\" checked><label for=\"sk-estimator-id-6\" class=\"sk-toggleable__label sk-toggleable__label-arrow\">LinearRegression</label><div class=\"sk-toggleable__content\"><pre>LinearRegression()</pre></div></div></div></div></div>"
      ],
      "text/plain": [
       "LinearRegression()"
      ]
     },
     "execution_count": 66,
     "metadata": {},
     "output_type": "execute_result"
    }
   ],
   "source": [
    "modelLR = LinearRegression()\n",
    "modelLR.fit(X_train,y_train)"
   ]
  },
  {
   "cell_type": "code",
   "execution_count": 67,
   "id": "7a4f4186-6963-48d6-8aae-e7c25ee7eb57",
   "metadata": {},
   "outputs": [
    {
     "data": {
      "text/plain": [
       "0.02994951728865225"
      ]
     },
     "execution_count": 67,
     "metadata": {},
     "output_type": "execute_result"
    }
   ],
   "source": [
    "modelLR.score(X_test,y_test)\n"
   ]
  },
  {
   "cell_type": "code",
   "execution_count": 72,
   "id": "d69dfa50-3385-4184-b27c-0d5fb69b5587",
   "metadata": {},
   "outputs": [
    {
     "name": "stdout",
     "output_type": "stream",
     "text": [
      "470396.6935953925\n",
      "236.41665541431038\n"
     ]
    }
   ],
   "source": [
    "print(mean_squared_error(y_test,modelLR.predict(X_test)))\n",
    "print(mean_absolute_error(y_test,modelLR.predict(X_test)))\n"
   ]
  },
  {
   "cell_type": "code",
   "execution_count": 38,
   "id": "a001da14-fd0c-4fe8-865d-e26c4b65210c",
   "metadata": {},
   "outputs": [],
   "source": [
    "y_pred = model.predict(X_test)"
   ]
  },
  {
   "cell_type": "code",
   "execution_count": 42,
   "id": "34046582-253b-411c-8c3b-88a36527dcda",
   "metadata": {},
   "outputs": [],
   "source": [
    "eval = y_test - y_pred"
   ]
  },
  {
   "cell_type": "code",
   "execution_count": 75,
   "id": "460df57f-9834-4b1d-8f0c-6ca0f80e0948",
   "metadata": {},
   "outputs": [
    {
     "data": {
      "image/png": "[encoded data removed]",
      "text/plain": [
       "<Figure size 640x480 with 1 Axes>"
      ]
     },
     "metadata": {},
     "output_type": "display_data"
    }
   ],
   "source": [
    "plt.hist(eval, bins=100,range=(-300,300),edgecolor='black')\n",
    "plt.show()"
   ]
  },
  {
   "cell_type": "code",
   "execution_count": 50,
   "id": "174970a4-20cf-4a7f-94c5-6053c41abdda",
   "metadata": {},
   "outputs": [
    {
     "data": {
      "text/plain": [
       "<matplotlib.collections.PathCollection at 0x7f4b75fa5240>"
      ]
     },
     "execution_count": 50,
     "metadata": {},
     "output_type": "execute_result"
    },
    {
     "data": {
      "image/png": "[encoded data removed]",
      "text/plain": [
       "<Figure size 640x480 with 1 Axes>"
      ]
     },
     "metadata": {},
     "output_type": "display_data"
    }
   ],
   "source": [
    "plt.scatter(y_pred, y_test)"
   ]
  },
  {
   "cell_type": "code",
   "execution_count": 51,
   "id": "54987728-728b-4653-817f-4bc6e4725903",
   "metadata": {},
   "outputs": [],
   "source": [
    "# now to try svm"
   ]
  },
  {
   "cell_type": "code",
   "execution_count": 56,
   "id": "d794c02f-ddc5-4c12-96e0-b95e01fda114",
   "metadata": {},
   "outputs": [
    {
     "data": {
      "text/html": [
       "<style>#sk-container-id-4 {color: black;}#sk-container-id-4 pre{padding: 0;}#sk-container-id-4 div.sk-toggleable {background-color: white;}#sk-container-id-4 label.sk-toggleable__label {cursor: pointer;display: block;width: 100%;margin-bottom: 0;padding: 0.3em;box-sizing: border-box;text-align: center;}#sk-container-id-4 label.sk-toggleable__label-arrow:before {content: \"▸\";float: left;margin-right: 0.25em;color: #696969;}#sk-container-id-4 label.sk-toggleable__label-arrow:hover:before {color: black;}#sk-container-id-4 div.sk-estimator:hover label.sk-toggleable__label-arrow:before {color: black;}#sk-container-id-4 div.sk-toggleable__content {max-height: 0;max-width: 0;overflow: hidden;text-align: left;background-color: #f0f8ff;}#sk-container-id-4 div.sk-toggleable__content pre {margin: 0.2em;color: black;border-radius: 0.25em;background-color: #f0f8ff;}#sk-container-id-4 input.sk-toggleable__control:checked~div.sk-toggleable__content {max-height: 200px;max-width: 100%;overflow: auto;}#sk-container-id-4 input.sk-toggleable__control:checked~label.sk-toggleable__label-arrow:before {content: \"▾\";}#sk-container-id-4 div.sk-estimator input.sk-toggleable__control:checked~label.sk-toggleable__label {background-color: #d4ebff;}#sk-container-id-4 div.sk-label input.sk-toggleable__control:checked~label.sk-toggleable__label {background-color: #d4ebff;}#sk-container-id-4 input.sk-hidden--visually {border: 0;clip: rect(1px 1px 1px 1px);clip: rect(1px, 1px, 1px, 1px);height: 1px;margin: -1px;overflow: hidden;padding: 0;position: absolute;width: 1px;}#sk-container-id-4 div.sk-estimator {font-family: monospace;background-color: #f0f8ff;border: 1px dotted black;border-radius: 0.25em;box-sizing: border-box;margin-bottom: 0.5em;}#sk-container-id-4 div.sk-estimator:hover {background-color: #d4ebff;}#sk-container-id-4 div.sk-parallel-item::after {content: \"\";width: 100%;border-bottom: 1px solid gray;flex-grow: 1;}#sk-container-id-4 div.sk-label:hover label.sk-toggleable__label {background-color: #d4ebff;}#sk-container-id-4 div.sk-serial::before {content: \"\";position: absolute;border-left: 1px solid gray;box-sizing: border-box;top: 0;bottom: 0;left: 50%;z-index: 0;}#sk-container-id-4 div.sk-serial {display: flex;flex-direction: column;align-items: center;background-color: white;padding-right: 0.2em;padding-left: 0.2em;position: relative;}#sk-container-id-4 div.sk-item {position: relative;z-index: 1;}#sk-container-id-4 div.sk-parallel {display: flex;align-items: stretch;justify-content: center;background-color: white;position: relative;}#sk-container-id-4 div.sk-item::before, #sk-container-id-4 div.sk-parallel-item::before {content: \"\";position: absolute;border-left: 1px solid gray;box-sizing: border-box;top: 0;bottom: 0;left: 50%;z-index: -1;}#sk-container-id-4 div.sk-parallel-item {display: flex;flex-direction: column;z-index: 1;position: relative;background-color: white;}#sk-container-id-4 div.sk-parallel-item:first-child::after {align-self: flex-end;width: 50%;}#sk-container-id-4 div.sk-parallel-item:last-child::after {align-self: flex-start;width: 50%;}#sk-container-id-4 div.sk-parallel-item:only-child::after {width: 0;}#sk-container-id-4 div.sk-dashed-wrapped {border: 1px dashed gray;margin: 0 0.4em 0.5em 0.4em;box-sizing: border-box;padding-bottom: 0.4em;background-color: white;}#sk-container-id-4 div.sk-label label {font-family: monospace;font-weight: bold;display: inline-block;line-height: 1.2em;}#sk-container-id-4 div.sk-label-container {text-align: center;}#sk-container-id-4 div.sk-container {/* jupyter's `normalize.less` sets `[hidden] { display: none; }` but bootstrap.min.css set `[hidden] { display: none !important; }` so we also need the `!important` here to be able to override the default hidden behavior on the sphinx rendered scikit-learn.org. See: https://github.com/scikit-learn/scikit-learn/issues/21755 */display: inline-block !important;position: relative;}#sk-container-id-4 div.sk-text-repr-fallback {display: none;}</style><div id=\"sk-container-id-4\" class=\"sk-top-container\"><div class=\"sk-text-repr-fallback\"><pre>SVR(kernel=&#x27;linear&#x27;)</pre><b>In a Jupyter environment, please rerun this cell to show the HTML representation or trust the notebook. <br />On GitHub, the HTML representation is unable to render, please try loading this page with nbviewer.org.</b></div><div class=\"sk-container\" hidden><div class=\"sk-item\"><div class=\"sk-estimator sk-toggleable\"><input class=\"sk-toggleable__control sk-hidden--visually\" id=\"sk-estimator-id-4\" type=\"checkbox\" checked><label for=\"sk-estimator-id-4\" class=\"sk-toggleable__label sk-toggleable__label-arrow\">SVR</label><div class=\"sk-toggleable__content\"><pre>SVR(kernel=&#x27;linear&#x27;)</pre></div></div></div></div></div>"
      ],
      "text/plain": [
       "SVR(kernel='linear')"
      ]
     },
     "execution_count": 56,
     "metadata": {},
     "output_type": "execute_result"
    }
   ],
   "source": [
    "model = SVR(kernel = 'linear')\n",
    "model.fit(X_train,y_train)"
   ]
  },
  {
   "cell_type": "code",
   "execution_count": 57,
   "id": "cf1097a0-9675-4fd4-a50f-84b19a84685e",
   "metadata": {},
   "outputs": [],
   "source": [
    "y_pred = model.predict(X_test)\n"
   ]
  },
  {
   "cell_type": "code",
   "execution_count": 58,
   "id": "ad854a06-9882-4481-9c7f-6e8c49735d91",
   "metadata": {},
   "outputs": [
    {
     "name": "stdout",
     "output_type": "stream",
     "text": [
      "Mean Squared Error: 642187.0581513933\n",
      "Root Mean Squared Error: 801.3657455565426\n"
     ]
    }
   ],
   "source": [
    "mse = mean_squared_error(y_test, y_pred)\n",
    "rmse = np.sqrt(mse)\n",
    "print(f'Mean Squared Error: {mse}')\n",
    "print(f'Root Mean Squared Error: {rmse}')"
   ]
  },
  {
   "cell_type": "code",
   "execution_count": 73,
   "id": "77b87028-afff-4ca1-b915-c41bf904fff3",
   "metadata": {},
   "outputs": [
    {
     "data": {
      "text/plain": [
       "0.030136310537067557"
      ]
     },
     "execution_count": 73,
     "metadata": {},
     "output_type": "execute_result"
    }
   ],
   "source": [
    "model.score(X_test,y_test)"
   ]
  },
  {
   "cell_type": "code",
   "execution_count": 59,
   "id": "f2d54fd8-05dd-47ae-a2df-e24066aabb1e",
   "metadata": {},
   "outputs": [],
   "source": [
    "def process_data(df):\n",
    "    df_mean = df.groupby('Id').mean()\n",
    "    df_mean.fillna(0,inplace=True)\n",
    "    df_mean.reset_index(inplace=True)\n",
    "    return df_mean"
   ]
  },
  {
   "cell_type": "code",
   "execution_count": 60,
   "id": "42598e66-08bb-4143-81a0-06b9285deb6b",
   "metadata": {},
   "outputs": [
    {
     "data": {
      "text/plain": [
       "count     9541.000000\n",
       "mean       138.896309\n",
       "std        697.121006\n",
       "min          0.010000\n",
       "25%          0.254000\n",
       "50%          0.762000\n",
       "75%          3.556002\n",
       "max      32740.617000\n",
       "Name: Expected, dtype: float64"
      ]
     },
     "execution_count": 60,
     "metadata": {},
     "output_type": "execute_result"
    }
   ],
   "source": [
    "df_mean = process_data(df)\n",
    "df_mean['Expected'].describe()\n"
   ]
  },
  {
   "cell_type": "code",
   "execution_count": 61,
   "id": "425785df-ba53-46b0-a1aa-aec2b6a769fb",
   "metadata": {},
   "outputs": [
    {
     "data": {
      "image/png": "[encoded data removed]",
      "text/plain": [
       "<Figure size 1500x1000 with 1 Axes>"
      ]
     },
     "metadata": {},
     "output_type": "display_data"
    }
   ],
   "source": [
    "plt.figure(figsize=(15,10))\n",
    "df_mean['Expected'].plot(kind='box')\n",
    "plt.show()"
   ]
  },
  {
   "cell_type": "code",
   "execution_count": 74,
   "id": "a06e8246-95fe-45a1-8581-89f8f8abca96",
   "metadata": {},
   "outputs": [
    {
     "data": {
      "text/plain": [
       "(array([0.000e+00, 0.000e+00, 0.000e+00, 0.000e+00, 0.000e+00, 0.000e+00,\n",
       "        0.000e+00, 0.000e+00, 0.000e+00, 0.000e+00, 0.000e+00, 0.000e+00,\n",
       "        0.000e+00, 0.000e+00, 0.000e+00, 0.000e+00, 0.000e+00, 0.000e+00,\n",
       "        0.000e+00, 0.000e+00, 0.000e+00, 0.000e+00, 0.000e+00, 0.000e+00,\n",
       "        0.000e+00, 0.000e+00, 0.000e+00, 0.000e+00, 0.000e+00, 0.000e+00,\n",
       "        0.000e+00, 0.000e+00, 0.000e+00, 0.000e+00, 0.000e+00, 0.000e+00,\n",
       "        0.000e+00, 0.000e+00, 0.000e+00, 0.000e+00, 0.000e+00, 0.000e+00,\n",
       "        0.000e+00, 0.000e+00, 0.000e+00, 0.000e+00, 0.000e+00, 0.000e+00,\n",
       "        0.000e+00, 9.757e+03, 6.874e+03, 8.290e+02, 5.740e+02, 8.100e+01,\n",
       "        1.330e+02, 2.600e+01, 1.500e+01, 8.000e+00, 4.000e+00, 3.200e+01,\n",
       "        3.500e+01, 2.300e+01, 7.000e+00, 3.500e+01, 5.000e+00, 3.000e+00,\n",
       "        5.000e+00, 2.000e+00, 1.000e+00, 8.000e+00, 1.200e+01, 1.100e+01,\n",
       "        0.000e+00, 9.000e+00, 2.600e+01, 4.000e+01, 6.000e+00, 1.050e+02,\n",
       "        2.000e+00, 3.200e+01, 0.000e+00, 0.000e+00, 0.000e+00, 2.000e+00,\n",
       "        0.000e+00, 0.000e+00, 1.200e+01, 1.000e+00, 1.700e+01, 1.000e+01,\n",
       "        4.000e+00, 0.000e+00, 0.000e+00, 0.000e+00, 0.000e+00, 0.000e+00,\n",
       "        0.000e+00, 0.000e+00, 0.000e+00, 8.000e+00]),\n",
       " array([-300., -294., -288., -282., -276., -270., -264., -258., -252.,\n",
       "        -246., -240., -234., -228., -222., -216., -210., -204., -198.,\n",
       "        -192., -186., -180., -174., -168., -162., -156., -150., -144.,\n",
       "        -138., -132., -126., -120., -114., -108., -102.,  -96.,  -90.,\n",
       "         -84.,  -78.,  -72.,  -66.,  -60.,  -54.,  -48.,  -42.,  -36.,\n",
       "         -30.,  -24.,  -18.,  -12.,   -6.,    0.,    6.,   12.,   18.,\n",
       "          24.,   30.,   36.,   42.,   48.,   54.,   60.,   66.,   72.,\n",
       "          78.,   84.,   90.,   96.,  102.,  108.,  114.,  120.,  126.,\n",
       "         132.,  138.,  144.,  150.,  156.,  162.,  168.,  174.,  180.,\n",
       "         186.,  192.,  198.,  204.,  210.,  216.,  222.,  228.,  234.,\n",
       "         240.,  246.,  252.,  258.,  264.,  270.,  276.,  282.,  288.,\n",
       "         294.,  300.]),\n",
       " <BarContainer object of 100 artists>)"
      ]
     },
     "execution_count": 74,
     "metadata": {},
     "output_type": "execute_result"
    },
    {
     "data": {
      "image/png": "[encoded data removed]",
      "text/plain": [
       "<Figure size 640x480 with 1 Axes>"
      ]
     },
     "metadata": {},
     "output_type": "display_data"
    }
   ],
   "source": [
    "plt.hist(y_test - y_pred, bins=100,range=(-300,300),edgecolor='black')\n"
   ]
  },
  {
   "cell_type": "code",
   "execution_count": null,
   "id": "ee67c038-08e3-4a90-8f9d-5bd0ec4fc6fd",
   "metadata": {},
   "outputs": [],
   "source": []
  }
 ],
 "metadata": {
  "kernelspec": {
   "display_name": "Python 3 (ipykernel)",
   "language": "python",
   "name": "python3"
  },
  "language_info": {
   "codemirror_mode": {
    "name": "ipython",
    "version": 3
   },
   "file_extension": ".py",
   "mimetype": "text/x-python",
   "name": "python",
   "nbconvert_exporter": "python",
   "pygments_lexer": "ipython3",
   "version": "3.10.12"
  }
 },
 "nbformat": 4,
 "nbformat_minor": 5
}
